{
  "nbformat": 4,
  "nbformat_minor": 0,
  "metadata": {
    "kernelspec": {
      "display_name": "Python 3",
      "language": "python",
      "name": "python3"
    },
    "language_info": {
      "name": "python",
      "version": "3.6.4",
      "mimetype": "text/x-python",
      "codemirror_mode": {
        "name": "ipython",
        "version": 3
      },
      "pygments_lexer": "ipython3",
      "nbconvert_exporter": "python",
      "file_extension": ".py"
    },
    "colab": {
      "name": "sentimental-analysis-on-imdb-by-lstm.ipynb",
      "provenance": [],
      "collapsed_sections": []
    },
    "accelerator": "GPU"
  },
  "cells": [
    {
      "cell_type": "markdown",
      "metadata": {
        "_uuid": "cbc1015677ff999780eba6790793b1c963fbd5e5",
        "id": "IfAfufmEgm5L",
        "colab_type": "text"
      },
      "source": [
        "#Training LSTMs to do sentimental analysis on IMDB dataset ."
      ]
    },
    {
      "cell_type": "code",
      "metadata": {
        "_uuid": "8f2839f25d086af736a60e9eeb907d3b93b6e0e5",
        "_cell_guid": "b1076dfc-b9ad-4769-8c92-a6c4dae69d19",
        "trusted": true,
        "id": "nL-PFEwFgm5R",
        "colab_type": "code",
        "colab": {}
      },
      "source": [
        "import warnings\n",
        "import matplotlib.pyplot as plt\n",
        "from keras.datasets import imdb\n",
        "from keras.models import Sequential\n",
        "from keras.layers import Dense\n",
        "from keras.layers import LSTM, Flatten, Dropout\n",
        "from keras.layers.embeddings import Embedding\n",
        "from keras.preprocessing import sequence"
      ],
      "execution_count": 14,
      "outputs": []
    },
    {
      "cell_type": "markdown",
      "metadata": {
        "_uuid": "1d132e24819304428bf9f43cb53abfdbd5044e2e",
        "id": "lEzqYxdkgm5b",
        "colab_type": "text"
      },
      "source": [
        "#### Load IMDB from Keras dataset"
      ]
    },
    {
      "cell_type": "code",
      "metadata": {
        "_cell_guid": "79c7e3d0-c299-4dcb-8224-4455121ee9b0",
        "_uuid": "d629ff2d2480ee46fbb7e2d37f6b5fab8052498a",
        "trusted": true,
        "id": "DoDhsT9dgm5d",
        "colab_type": "code",
        "colab": {}
      },
      "source": [
        "num_words = 2000\n",
        "(X_train,y_train),(X_test,y_test) = imdb.load_data(num_words=2000)"
      ],
      "execution_count": 15,
      "outputs": []
    },
    {
      "cell_type": "markdown",
      "metadata": {
        "_uuid": "b54b940696447ebec3a6fddde1a86d89871e5636",
        "id": "nvGzQT8Ngm5l",
        "colab_type": "text"
      },
      "source": [
        "#### Padding the sequence to the same length"
      ]
    },
    {
      "cell_type": "code",
      "metadata": {
        "trusted": true,
        "_uuid": "375308f2bd064d70a2ea01411e6b424a2f7fac75",
        "id": "JPrX95stgm5l",
        "colab_type": "code",
        "colab": {}
      },
      "source": [
        "max_review_length = 250\n",
        "X_train = sequence.pad_sequences(X_train, maxlen=max_review_length)\n",
        "X_test = sequence.pad_sequences(X_test, maxlen=max_review_length)"
      ],
      "execution_count": 16,
      "outputs": []
    },
    {
      "cell_type": "markdown",
      "metadata": {
        "_uuid": "a92bee4ab3fcba6c46b6ae0078dafcc8a0587dcb",
        "id": "_uPxh5qhgm5r",
        "colab_type": "text"
      },
      "source": [
        "####Creating the model"
      ]
    },
    {
      "cell_type": "code",
      "metadata": {
        "trusted": true,
        "_uuid": "4b780f8c4ef5a1cfe85558dad5bbbb667e7bd293",
        "id": "Elm7EUffgm5u",
        "colab_type": "code",
        "colab": {}
      },
      "source": [
        "model = Sequential([\n",
        "    Embedding(input_dim=2000,output_dim=128,input_length=250),\n",
        "    Dropout(0.2),\n",
        "    LSTM(128),\n",
        "    Dense(units=256, activation='relu'),\n",
        "    Dropout(0.2),\n",
        "    Dense(units=1, activation='sigmoid')]\n",
        ")"
      ],
      "execution_count": 17,
      "outputs": []
    },
    {
      "cell_type": "code",
      "metadata": {
        "id": "GZcJko4g7ced",
        "colab_type": "code",
        "colab": {
          "base_uri": "https://localhost:8080/",
          "height": 357
        },
        "outputId": "154a55f3-be5b-43ee-e675-2e9ffe6e46d3"
      },
      "source": [
        "model.summary()"
      ],
      "execution_count": 18,
      "outputs": [
        {
          "output_type": "stream",
          "text": [
            "Model: \"sequential_1\"\n",
            "_________________________________________________________________\n",
            "Layer (type)                 Output Shape              Param #   \n",
            "=================================================================\n",
            "embedding_1 (Embedding)      (None, 250, 128)          256000    \n",
            "_________________________________________________________________\n",
            "dropout_2 (Dropout)          (None, 250, 128)          0         \n",
            "_________________________________________________________________\n",
            "lstm_1 (LSTM)                (None, 128)               131584    \n",
            "_________________________________________________________________\n",
            "dense_2 (Dense)              (None, 256)               33024     \n",
            "_________________________________________________________________\n",
            "dropout_3 (Dropout)          (None, 256)               0         \n",
            "_________________________________________________________________\n",
            "dense_3 (Dense)              (None, 1)                 257       \n",
            "=================================================================\n",
            "Total params: 420,865\n",
            "Trainable params: 420,865\n",
            "Non-trainable params: 0\n",
            "_________________________________________________________________\n"
          ],
          "name": "stdout"
        }
      ]
    },
    {
      "cell_type": "markdown",
      "metadata": {
        "id": "N6_Hhn4ojZTl",
        "colab_type": "text"
      },
      "source": [
        "#### Compiling the Model"
      ]
    },
    {
      "cell_type": "markdown",
      "metadata": {
        "_uuid": "84866472b8c0c9702f2716eaf926c559fffdc06f",
        "id": "B_e_dSRogm51",
        "colab_type": "text"
      },
      "source": [
        "#### Fit model"
      ]
    },
    {
      "cell_type": "code",
      "metadata": {
        "trusted": true,
        "_uuid": "5de4531f942dfd5ba5895bdc0fea0ab6af49f2fe",
        "id": "P8Ufze32gm52",
        "colab_type": "code",
        "colab": {
          "base_uri": "https://localhost:8080/",
          "height": 289
        },
        "outputId": "9a9255bf-24cc-4032-e6fa-5ea086f8e968"
      },
      "source": [
        "model.compile(loss='binary_crossentropy',optimizer='adam',metrics=['accuracy'])\n",
        "train_history = model.fit(X_train,y_train,batch_size=32,epochs=8,verbose=2,validation_split=0.2)"
      ],
      "execution_count": 19,
      "outputs": [
        {
          "output_type": "stream",
          "text": [
            "Epoch 1/8\n",
            "625/625 - 12s - loss: 0.4580 - accuracy: 0.7786 - val_loss: 0.3587 - val_accuracy: 0.8504\n",
            "Epoch 2/8\n",
            "625/625 - 11s - loss: 0.3486 - accuracy: 0.8496 - val_loss: 0.3257 - val_accuracy: 0.8736\n",
            "Epoch 3/8\n",
            "625/625 - 12s - loss: 0.2848 - accuracy: 0.8828 - val_loss: 0.3300 - val_accuracy: 0.8672\n",
            "Epoch 4/8\n",
            "625/625 - 12s - loss: 0.2505 - accuracy: 0.8995 - val_loss: 0.3774 - val_accuracy: 0.8376\n",
            "Epoch 5/8\n",
            "625/625 - 11s - loss: 0.2167 - accuracy: 0.9139 - val_loss: 0.3492 - val_accuracy: 0.8668\n",
            "Epoch 6/8\n",
            "625/625 - 11s - loss: 0.2048 - accuracy: 0.9194 - val_loss: 0.3559 - val_accuracy: 0.8678\n",
            "Epoch 7/8\n",
            "625/625 - 11s - loss: 0.1782 - accuracy: 0.9325 - val_loss: 0.3496 - val_accuracy: 0.8694\n",
            "Epoch 8/8\n",
            "625/625 - 11s - loss: 0.1579 - accuracy: 0.9386 - val_loss: 0.3941 - val_accuracy: 0.8666\n"
          ],
          "name": "stdout"
        }
      ]
    },
    {
      "cell_type": "markdown",
      "metadata": {
        "_uuid": "3d96ac776c84209a1be9a64dad7fab48857f759e",
        "id": "gVJRGlaCgm56",
        "colab_type": "text"
      },
      "source": [
        "#### Show train and validation history: loss and accuracy"
      ]
    },
    {
      "cell_type": "code",
      "metadata": {
        "trusted": true,
        "_uuid": "a868d7a2d1e83fa4d8362f7ec728f8055fa19504",
        "id": "kKQAnFQ3gm57",
        "colab_type": "code",
        "colab": {}
      },
      "source": [
        "def show_train_history(train_history,train,validation):\n",
        "    plt.plot(train_history.history[train])\n",
        "    plt.plot(train_history.history[validation])\n",
        "    plt.title('Train History')\n",
        "    plt.ylabel(train)\n",
        "    plt.xlabel('Epoch')\n",
        "    plt.legend(['train', 'validation'], loc='upper left')\n",
        "    plt.show()"
      ],
      "execution_count": 20,
      "outputs": []
    },
    {
      "cell_type": "code",
      "metadata": {
        "trusted": true,
        "_uuid": "4120c7d18c2f51bf4ca1cc917a64f26e7982501a",
        "id": "c5tO0chvgm6E",
        "colab_type": "code",
        "colab": {
          "base_uri": "https://localhost:8080/",
          "height": 295
        },
        "outputId": "febf8cb5-735f-42e7-8400-73f649a86001"
      },
      "source": [
        "show_train_history(train_history,'accuracy','val_accuracy')"
      ],
      "execution_count": 21,
      "outputs": [
        {
          "output_type": "display_data",
          "data": {
            "image/png": "[encoded data removed]",
            "text/plain": [
              "<Figure size 432x288 with 1 Axes>"
            ]
          },
          "metadata": {
            "tags": [],
            "needs_background": "light"
          }
        }
      ]
    },
    {
      "cell_type": "code",
      "metadata": {
        "trusted": true,
        "_uuid": "6452d44142702b4d65c5666fdbf57ac87f10019a",
        "id": "Fw_Lhxajgm6I",
        "colab_type": "code",
        "colab": {
          "base_uri": "https://localhost:8080/",
          "height": 295
        },
        "outputId": "116a57ae-8da8-416a-b826-a614793427e6"
      },
      "source": [
        "show_train_history(train_history,'loss','val_loss')"
      ],
      "execution_count": 22,
      "outputs": [
        {
          "output_type": "display_data",
          "data": {
            "image/png": "[encoded data removed]",
            "text/plain": [
              "<Figure size 432x288 with 1 Axes>"
            ]
          },
          "metadata": {
            "tags": [],
            "needs_background": "light"
          }
        }
      ]
    },
    {
      "cell_type": "markdown",
      "metadata": {
        "_uuid": "ce397e0e213e4dccb3ea6ae29958b27eda53299f",
        "id": "fIyYpMCGgm6M",
        "colab_type": "text"
      },
      "source": [
        "#### Evaluate model by test set"
      ]
    },
    {
      "cell_type": "code",
      "metadata": {
        "trusted": true,
        "_uuid": "2fdbcaf55c052b0ffc9150f4d8b0ad53885d484b",
        "id": "7soHyBH1gm6N",
        "colab_type": "code",
        "colab": {
          "base_uri": "https://localhost:8080/",
          "height": 51
        },
        "outputId": "1e365922-7a68-4729-dac1-630613910033"
      },
      "source": [
        "scores = model.evaluate(X_test, y_test, verbose=1)\n",
        "\n",
        "print(\"Accuracy of the Model is : \",scores[1])"
      ],
      "execution_count": 23,
      "outputs": [
        {
          "output_type": "stream",
          "text": [
            "782/782 [==============================] - 6s 7ms/step - loss: 0.3974 - accuracy: 0.8648\n",
            "Accuracy of the Model is :  0.8648399710655212\n"
          ],
          "name": "stdout"
        }
      ]
    },
    {
      "cell_type": "markdown",
      "metadata": {
        "_uuid": "75a4ce342a52e6d013be654fffdac40cf7723ba6",
        "id": "pIlpYFGlgm6U",
        "colab_type": "text"
      },
      "source": [
        "#### Predicting test data"
      ]
    },
    {
      "cell_type": "code",
      "metadata": {
        "trusted": true,
        "_uuid": "e06d773885147a80845a968e29db3d21ef6ed716",
        "id": "XCBAdXCRgm6V",
        "colab_type": "code",
        "colab": {}
      },
      "source": [
        "predict = model.predict_classes(X_test)\n",
        "predict_classes = predict.reshape(len(X_test))\n",
        "warnings.filterwarnings('ignore')"
      ],
      "execution_count": 24,
      "outputs": []
    },
    {
      "cell_type": "code",
      "metadata": {
        "id": "KluLF7yoHN79",
        "colab_type": "code",
        "colab": {}
      },
      "source": [
        "def get_original_text(a):\n",
        "    word2id = imdb.get_word_index()\n",
        "    id2word = {i: word for word, i in word2id.items()}\n",
        "    return ' '.join([id2word.get(i, ' ') for i in X_train[a]])\n",
        "\n",
        "SentimentDict={1:'positive', 0:'negative'}\n",
        "\n",
        "def display_test_sentiment(i):\n",
        "    print(get_original_text(i))\n",
        "    print('label: ', SentimentDict[y_test[i]], ', prediction: ', SentimentDict[predict_classes[i]])"
      ],
      "execution_count": 25,
      "outputs": []
    },
    {
      "cell_type": "code",
      "metadata": {
        "id": "BpgJlVCwlbwS",
        "colab_type": "code",
        "colab": {
          "base_uri": "https://localhost:8080/",
          "height": 105
        },
        "outputId": "5fc3bdde-b15d-4009-d714-3a62ecaab38b"
      },
      "source": [
        "display_test_sentiment(4504)\n",
        "display_test_sentiment(85)"
      ],
      "execution_count": 26,
      "outputs": [
        {
          "output_type": "stream",
          "text": [
            "is mark to fight i've fact ask you for and and as and and ' it these main doesn't not element basically in and and it by br of suspense before however this only middle to all it true cast stewart this of almost br of and and and directing all effects but of father my scene true cast of black may and to and and it hear in cheap and teacher this documentary in and of and br is flick and of flick br of and and and and to of others found and and and as flick after true at of and and br of and black movie was takes sequel besides and it true cast shot movie and train and take of and merely agree other disaster is herself br below sad films of being br and with sad that's to and and we which up of runs giant this of gary take with of being br and anyone who and and is and fun like attempt and she these and probably interesting of see scientist son br of you of problem you it world and to much nice this seemed and really and is quite in of sequences and and scenes this of 5 it and world bizarre to by br of and understand this think br of and many of and merely it and of and br of job and many film and itself is besides and by say ever overall not director predictable for\n",
            "label:  positive , prediction:  positive\n",
            "was two series and to around getting this an of shown and and not movie was although some watch doesn't as on more it is soon oh charm lives to away that story one will of liked br didn't didn't movie that there brings br that to and story one will up been and film that to way car masterpiece either in and which up voice are goes been scene in ever for that it shown not of 10 has charm lives soon it for if is notice and br of follows characters know audience and it of and and and br of and to her and that big at hair movie man and on movie while he characters for he way do are thinks to have big had stupid similar of and do writer with present in at her it's that with else do if but of great like just in use do love do dr to do dvd fan to who good i'd br clichés was rather by br any movies more he they're no was one so and br wife is had do on to few she but good follows to scene have through of hard it understanding not series itself so middle br included to thing one expecting film and fan i i when was children in why it for what have pretty in character good getting on them and and it itself of moves not and only and to then business that who and somehow\n",
            "label:  negative , prediction:  negative\n"
          ],
          "name": "stdout"
        }
      ]
    }
  ]
}